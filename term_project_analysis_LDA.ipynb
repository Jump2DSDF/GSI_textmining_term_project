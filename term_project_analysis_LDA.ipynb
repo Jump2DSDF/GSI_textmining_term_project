{
 "cells": [
  {
   "cell_type": "markdown",
   "metadata": {
    "id": "In_ALJd-ypjE"
   },
   "source": [
    "### 3. LDA 토픽모델링 (LDA Topic Modeling)\n",
    "\n",
    "---"
   ]
  },
  {
   "cell_type": "code",
   "execution_count": null,
   "metadata": {},
   "outputs": [],
   "source": [
    "from teanaps.text_analysis import TopicClustering\n",
    "\n",
    "tc = TopicClustering()"
   ]
  },
  {
   "cell_type": "code",
   "execution_count": null,
   "metadata": {},
   "outputs": [],
   "source": [
    "NUM_TOPICS = 3    # 주제의 개수\n",
    "NUM_KEYWORDS = 10  # 주제별 키워드 개수\n",
    "\n",
    "lda_result = tc.topic_modeling(\"lda\", plain_text_list, NUM_TOPICS, NUM_KEYWORDS)\n",
    "lda_result"
   ]
  },
  {
   "cell_type": "code",
   "execution_count": null,
   "metadata": {},
   "outputs": [],
   "source": [
    "lda_model = tc.get_model()\n",
    "#tc.display_model_result(lda_model)"
   ]
  },
  {
   "cell_type": "code",
   "execution_count": null,
   "metadata": {},
   "outputs": [],
   "source": [
    "perplexity, coherence = tc.get_model_validation_result()\n",
    "perplexity, coherence    # perplexity: 혼잡도, coherence: 일관성"
   ]
  },
  {
   "cell_type": "code",
   "execution_count": null,
   "metadata": {},
   "outputs": [],
   "source": [
    "MAX_TOPICS = 10 \n",
    "\n",
    "tc.set_plotly()\n",
    "tc.get_model_validation_graph(\"lda\", plain_text_list, MAX_TOPICS)"
   ]
  },
  {
   "cell_type": "code",
   "execution_count": null,
   "metadata": {},
   "outputs": [],
   "source": []
  },
  {
   "cell_type": "code",
   "execution_count": null,
   "metadata": {},
   "outputs": [],
   "source": []
  },
  {
   "cell_type": "code",
   "execution_count": null,
   "metadata": {},
   "outputs": [],
   "source": []
  },
  {
   "cell_type": "code",
   "execution_count": null,
   "metadata": {},
   "outputs": [],
   "source": []
  },
  {
   "cell_type": "code",
   "execution_count": null,
   "metadata": {},
   "outputs": [],
   "source": []
  },
  {
   "cell_type": "code",
   "execution_count": null,
   "metadata": {},
   "outputs": [],
   "source": []
  },
  {
   "cell_type": "code",
   "execution_count": null,
   "metadata": {},
   "outputs": [],
   "source": []
  }
 ],
 "metadata": {
  "kernelspec": {
   "display_name": "Python 3",
   "language": "python",
   "name": "python3"
  },
  "language_info": {
   "codemirror_mode": {
    "name": "ipython",
    "version": 3
   },
   "file_extension": ".py",
   "mimetype": "text/x-python",
   "name": "python",
   "nbconvert_exporter": "python",
   "pygments_lexer": "ipython3",
   "version": "3.7.4"
  }
 },
 "nbformat": 4,
 "nbformat_minor": 2
}
