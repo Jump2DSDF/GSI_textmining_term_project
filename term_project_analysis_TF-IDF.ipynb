{
 "cells": [
  {
   "cell_type": "markdown",
   "metadata": {
    "colab_type": "text",
    "id": "_F-XEpH5qAtx"
   },
   "source": [
    "## WEEK 06-1. 단어빈도와 TF-IDF 계산하기\n",
    "- Python으로 문서에서 단어를 추출하고 빈도와 TF-IDF를 계산하는 방법에 대해 다룹니다.\n",
    "\n",
    "---"
   ]
  },
  {
   "cell_type": "markdown",
   "metadata": {},
   "source": [
    "### 1. 단어빈도와 TF-IDF 계산하기\n",
    "\n",
    "---"
   ]
  },
  {
   "cell_type": "code",
   "execution_count": null,
   "metadata": {},
   "outputs": [],
   "source": [
    "# TEANAPS 라이브러리를 불러옵니다.\n",
    "from teanaps.nlp import MorphologicalAnalyzer\n",
    "from teanaps.nlp import Processing\n",
    "from teanaps.nlp import SyntaxAnalyzer\n",
    "\n",
    "pro = Processing()\n",
    "ma = MorphologicalAnalyzer()\n",
    "#ma.set_tagger(\"okt\")\n",
    "sa = SyntaxAnalyzer()"
   ]
  },
  {
   "cell_type": "code",
   "execution_count": null,
   "metadata": {},
   "outputs": [],
   "source": [
    "plain_text_list = []\n",
    "#PATH = \"data/article_sample.txt\"\n",
    "#PATH = \"data/novel_sample_ko.txt\"\n",
    "PATH = \"data/movie_comment.txt\"\n",
    "\n",
    "POS_LIST = [\"NNG\", \"NNP\"]\n",
    "\n",
    "f = open(PATH, encoding=\"utf-8\")\n",
    "progress = 0\n",
    "\n",
    "# 파일에서 기사본문만 추출하여 명사형 문장을 생성합니다.\n",
    "for line in f:\n",
    "    progress += 1\n",
    "    print(progress, end=\"\\r\")\n",
    "    \n",
    "    col = line.split(\"\\t\") # [label, souce, datetime, title, content]\n",
    "    #label = col[0]         # 기사 검색어\n",
    "    #source = col[1]        # 언론사\n",
    "    #datetime = col[2]      # 작성일자\n",
    "    #title = col[3]         # 제목\n",
    "    content = col[4]       # 본문\n",
    "    \n",
    "    pos_list = ma.parse(content)\n",
    "    # pos_list = ma.parse(line)\n",
    "    sa_list = sa.parse(pos_list, [])\n",
    "    #plain_text = pro.get_plain_text(pos_list, pos_list=POS_LIST, tag=False)\n",
    "    plain_text = pro.get_plain_text(sa_list, pos_list=POS_LIST, tag=False)\n",
    "    plain_text_list.append(plain_text)\n",
    "\n",
    "f.close()\n",
    "\n",
    "plain_text_list[:3]"
   ]
  },
  {
   "cell_type": "code",
   "execution_count": null,
   "metadata": {},
   "outputs": [],
   "source": [
    "from teanaps.text_analysis import TfidfCalculator\n",
    "\n",
    "tfidf = TfidfCalculator()"
   ]
  },
  {
   "cell_type": "code",
   "execution_count": null,
   "metadata": {},
   "outputs": [],
   "source": [
    "# TF/TF-IDF 값을 계산합니다.\n",
    "tfidf.calculation_tfidf(plain_text_list, tfidf_count=100, tfidf_state=True)dd"
   ]
  },
  {
   "cell_type": "code",
   "execution_count": null,
   "metadata": {},
   "outputs": [],
   "source": [
    "# TF 계산결과를 딕셔너리 형태로 불러옵니다.\n",
    "tfidf.get_tf_dict()"
   ]
  },
  {
   "cell_type": "code",
   "execution_count": null,
   "metadata": {},
   "outputs": [],
   "source": [
    "# TF 계산결과를 리스트 형태로 불러옵니다.\n",
    "tfidf.get_tf_list()[:30]"
   ]
  },
  {
   "cell_type": "code",
   "execution_count": null,
   "metadata": {},
   "outputs": [],
   "source": [
    "# TF-IDF 계산결과를 딕셔너리 형태로 불러옵니다.\n",
    "tfidf.get_tfidf_dict()"
   ]
  },
  {
   "cell_type": "code",
   "execution_count": null,
   "metadata": {},
   "outputs": [],
   "source": [
    "# TF-IDF 계산결과를 리스트 형태로 불러옵니다.\n",
    "# tfidf.get_tfidf_list()[:20]\n",
    "tfidf.get_tfidf_list()[:50]"
   ]
  },
  {
   "cell_type": "code",
   "execution_count": null,
   "metadata": {},
   "outputs": [],
   "source": [
    "# 전체 문서의 단어주머니를 불러옵니다.\n",
    "# tfidf.get_word_list()[:20]\n",
    "len(tfidf.get_word_list())"
   ]
  },
  {
   "cell_type": "code",
   "execution_count": null,
   "metadata": {},
   "outputs": [],
   "source": [
    "# TF/TF-IDF 계산결과를 그래프로 표현합니다.\n",
    "# 그래프에 표현할 빈도기준 Top N 개를 숫자로 입력합니다.\n",
    "tfidf.draw_tfidf(100)"
   ]
  },
  {
   "cell_type": "code",
   "execution_count": null,
   "metadata": {},
   "outputs": [],
   "source": [
    "# TF-IDF 기준 워드클라우드를 출력합니다.\n",
    "count_dict = tfidf.get_tf_list()\n",
    "tfidf.get_wordcloud(count_dict)### 2. 불용어 처리하기\n",
    "\n",
    "---"
   ]
  },
  {
   "cell_type": "code",
   "execution_count": null,
   "metadata": {},
   "outputs": [],
   "source": [
    "# 단어 x TF 매트릭스를 생성합니다.\n",
    "#tfidf.get_tf_matrix()"
   ]
  },
  {
   "cell_type": "code",
   "execution_count": null,
   "metadata": {},
   "outputs": [],
   "source": [
    "# 단어 x TF-IDF 매트릭스를 생성합니다.\n",
    "#tfidf.get_tfidf_matrix()"
   ]
  },
  {
   "cell_type": "markdown",
   "metadata": {},
   "source": [
    "### 2. 불용어 처리하기\n",
    "\n",
    "---"
   ]
  },
  {
   "cell_type": "code",
   "execution_count": null,
   "metadata": {},
   "outputs": [],
   "source": [
    "# 전체 불용어 리스트를 불러옵니다.\n",
    "result = pro.get_stopword()\n",
    "print(result[-10:])"
   ]
  },
  {
   "cell_type": "code",
   "execution_count": null,
   "metadata": {},
   "outputs": [],
   "source": [
    "# 불용어를 추가합니다.\n",
    "pro.add_stopword(\"영화\")\n",
    "\n",
    "result = pro.get_stopword()\n",
    "print(result[-10:])"
   ]
  },
  {
   "cell_type": "code",
   "execution_count": null,
   "metadata": {},
   "outputs": [],
   "source": [
    "# 불용어를 리스트 단위로 추가합니다.\n",
    "pro.add_stopword([\"으로\", \"로서\", \"때문에\"])\n",
    "\n",
    "result = pro.get_stopword()\n",
    "print(result[-10:])"
   ]
  },
  {
   "cell_type": "code",
   "execution_count": null,
   "metadata": {},
   "outputs": [],
   "source": [
    "# 불용어를 제거합니다.\n",
    "pro.remove_stopword(\"때문에\")\n",
    "\n",
    "result = pro.get_stopword()\n",
    "print(result[-10:])"
   ]
  },
  {
   "cell_type": "code",
   "execution_count": null,
   "metadata": {},
   "outputs": [],
   "source": [
    "# 불용어를 리스트 단위로 제거합니다.\n",
    "pro.remove_stopword([\"은\", \"는\", \"이\", \"가\"])\n",
    "\n",
    "result = pro.get_stopword()\n",
    "print(result[-10:])"
   ]
  },
  {
   "cell_type": "code",
   "execution_count": null,
   "metadata": {},
   "outputs": [],
   "source": [
    "# 전체 불용어 리스트를 삭제합니다.\n",
    "pro.clear_stopword()\n",
    "\n",
    "result = pro.get_stopword()\n",
    "print(result[-10:])"
   ]
  },
  {
   "cell_type": "code",
   "execution_count": null,
   "metadata": {},
   "outputs": [],
   "source": [
    "# 불용어 리스트를 초기화합니다.\n",
    "pro.set_org_stopword()\n",
    "\n",
    "result = pro.get_stopword()\n",
    "print(result[-10:])"
   ]
  },
  {
   "cell_type": "code",
   "execution_count": null,
   "metadata": {},
   "outputs": [],
   "source": [
    "# 불용어 여부를 확인합니다.\n",
    "result = pro.is_stopword(\"은\")\n",
    "print(result)"
   ]
  },
  {
   "cell_type": "code",
   "execution_count": null,
   "metadata": {},
   "outputs": [],
   "source": [
    "result = pro.is_stopword(\"없는단어\")\n",
    "print(result)"
   ]
  },
  {
   "cell_type": "markdown",
   "metadata": {},
   "source": [
    "### 3. 복합명사 처리하기\n",
    "\n",
    "---"
   ]
  },
  {
   "cell_type": "code",
   "execution_count": null,
   "metadata": {},
   "outputs": [],
   "source": [
    "# 전체 복합명사 리스트를 불러옵니다.\n",
    "result = pro.get_cnoun()\n",
    "print(result[-10:])"
   ]
  },
  {
   "cell_type": "code",
   "execution_count": null,
   "metadata": {},
   "outputs": [],
   "source": [
    "# 복합명사를 추가합니다.\n",
    "pro.add_cnoun(\"공조2\")\n",
    "\n",
    "result = pro.get_cnoun()\n",
    "print(result[-10:])"
   ]
  },
  {
   "cell_type": "code",
   "execution_count": null,
   "metadata": {},
   "outputs": [],
   "source": [
    "# 복합명사를 리스트 단위로 추가합니다.\n",
    "pro.add_cnoun([\"공조2\", \"임윤아\", \"1편\", \"2편\"])\n",
    "\n",
    "result = pro.get_cnoun()\n",
    "print(result[-10:])"
   ]
  },
  {
   "cell_type": "code",
   "execution_count": null,
   "metadata": {},
   "outputs": [],
   "source": [
    "# 복합명사를 제거합니다.\n",
    "pro.remove_cnoun(\"임윤아\")\n",
    "\n",
    "result = pro.get_cnoun()\n",
    "print(result[-10:])"
   ]
  },
  {
   "cell_type": "code",
   "execution_count": null,
   "metadata": {},
   "outputs": [],
   "source": [
    "# 복합명사를 리스트 단위로 제거합니다.\n",
    "pro.remove_cnoun([\"1편\", \"2편\"])\n",
    "\n",
    "result = pro.get_cnoun()\n",
    "print(result[-10:])"
   ]
  },
  {
   "cell_type": "code",
   "execution_count": null,
   "metadata": {},
   "outputs": [],
   "source": [
    "# 전체 복합명사 리스트를 삭제합니다.\n",
    "pro.clear_cnoun()\n",
    "\n",
    "result = pro.get_cnoun()\n",
    "print(result[-10:])"
   ]
  },
  {
   "cell_type": "code",
   "execution_count": null,
   "metadata": {},
   "outputs": [],
   "source": [
    "# 복합명사 리스트를 초기화합니다.\n",
    "pro.set_org_cnoun()\n",
    "\n",
    "result = pro.get_cnoun()\n",
    "print(result[-10:])"
   ]
  },
  {
   "cell_type": "markdown",
   "metadata": {},
   "source": [
    "### 4. 동의어 처리하기\n",
    "\n",
    "---"
   ]
  },
  {
   "cell_type": "code",
   "execution_count": null,
   "metadata": {},
   "outputs": [],
   "source": [
    "# 전체 동의어 리스트를 불러옵니다.\n",
    "result = pro.get_synonym()\n",
    "print(result)"
   ]
  },
  {
   "cell_type": "code",
   "execution_count": null,
   "metadata": {},
   "outputs": [],
   "source": [
    "# 동의어를 추가합니다.\n",
    "pro.add_synonym({'다니엘헤니': ['다니엘헤니', '다니엘', '헤니']})\n",
    "\n",
    "result = pro.get_synonym()\n",
    "result"
   ]
  },
  {
   "cell_type": "code",
   "execution_count": null,
   "metadata": {},
   "outputs": [],
   "source": [
    "# 동의어를 삭제합니다.\n",
    "pro.remove_synonym(\"다니엘헤니\")\n",
    "\n",
    "result = pro.get_synonym()\n",
    "result"
   ]
  },
  {
   "cell_type": "code",
   "execution_count": null,
   "metadata": {},
   "outputs": [],
   "source": [
    "# 전체 동의어 리스트를 삭제합니다.\n",
    "pro.clear_synonym()\n",
    "\n",
    "result = pro.get_synonym()\n",
    "print(result)"
   ]
  },
  {
   "cell_type": "code",
   "execution_count": null,
   "metadata": {},
   "outputs": [],
   "source": [
    "# 동의어 리스트를 초기화합니다.\n",
    "pro.set_org_synonym()\n",
    "\n",
    "result = pro.get_synonym()\n",
    "print(result)"
   ]
  },
  {
   "cell_type": "code",
   "execution_count": null,
   "metadata": {},
   "outputs": [],
   "source": []
  },
  {
   "cell_type": "code",
   "execution_count": null,
   "metadata": {},
   "outputs": [],
   "source": []
  },
  {
   "cell_type": "code",
   "execution_count": null,
   "metadata": {},
   "outputs": [],
   "source": []
  },
  {
   "cell_type": "code",
   "execution_count": null,
   "metadata": {},
   "outputs": [],
   "source": []
  },
  {
   "cell_type": "code",
   "execution_count": null,
   "metadata": {},
   "outputs": [],
   "source": []
  },
  {
   "cell_type": "code",
   "execution_count": null,
   "metadata": {},
   "outputs": [],
   "source": []
  }
 ],
 "metadata": {
  "kernelspec": {
   "display_name": "Python 3",
   "language": "python",
   "name": "python3"
  },
  "language_info": {
   "codemirror_mode": {
    "name": "ipython",
    "version": 3
   },
   "file_extension": ".py",
   "mimetype": "text/x-python",
   "name": "python",
   "nbconvert_exporter": "python",
   "pygments_lexer": "ipython3",
   "version": "3.7.4"
  }
 },
 "nbformat": 4,
 "nbformat_minor": 2
}
