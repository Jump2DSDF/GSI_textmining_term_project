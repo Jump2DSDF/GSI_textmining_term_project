{
 "cells": [
  {
   "cell_type": "markdown",
   "metadata": {},
   "source": [
    "### 1. 가상의 브라우저 실행하기: Chrome Driver\n",
    "\n",
    "---"
   ]
  },
  {
   "cell_type": "code",
   "execution_count": null,
   "metadata": {},
   "outputs": [],
   "source": [
    "# Python 코드를 통해 가상의 브라우저를 띄우기 위해 selenium 패키지를 import 합니다.\n",
    "import selenium\n",
    "from selenium import webdriver\n",
    "from selenium.webdriver.common.by import By\n",
    "from selenium.webdriver.chrome.service import Service\n",
    "\n",
    "# selenium을 활용해 브라우저를 직접 띄우는 경우, 실제 웹서핑을 할때처럼 로딩시간이 필요합니다.\n",
    "# 로딩시간 동안 대기하도록 코드를 구성하기위해 time 패키지를 import 합니다.\n",
    "import time\n",
    "\n",
    "# Python 코드를 통해 웹페이지에 정보를 요청하기 위해 BeautifulSoup, urllib 패키지를 import 합니다.\n",
    "from bs4 import BeautifulSoup\n",
    "import requests"
   ]
  },
  {
   "cell_type": "code",
   "execution_count": null,
   "metadata": {},
   "outputs": [],
   "source": [
    "# Chrome Driver를 호출합니다.\n",
    "chrome_options = webdriver.ChromeOptions()\n",
    "\n",
    "# 브라우저에 임의로 User-agent 옵션을 넣어 Python 코드로 접속함을 숨깁니다.\n",
    "chrome_options.add_argument('--user-agent=\"Mozilla/5.0 (Macintosh; Intel Mac OS X 10_13_4) AppleWebKit/537.36 (KHTML, like Gecko) Chrome/66.0.3359.139 Safari/537.36\"')\n",
    "\n",
    "# Chrome Driver 파일의 경로를 지정하고 실행합니다.\n",
    "# Chrome Driver는 아래 링크에서 다운로드 가능합니다.\n",
    "# 본 Jupyter Notebook 파일과 동일한 경로에 Chrome Driver가 존재하는 경우 아래 경로를 그대로 사용합니다.\n",
    "\n",
    "#service = Service(\"chromedriver.exe\")    # Windows 운영체제\n",
    "service = Service(\"./chromedriver\")    # MAC, Linux 운영체제\n",
    "                                       # 경고메시지 출력시 조치 : [시스템 환경설정] > [보안 및 개인정보 보호] > \"Chrome Drive ~ 확인없이 허용\"\n",
    "\n",
    "driver = webdriver.Chrome(service=service, options=chrome_options)"
   ]
  },
  {
   "cell_type": "markdown",
   "metadata": {},
   "source": [
    "### 2. 리뷰 페이지 이동하기"
   ]
  },
  {
   "cell_type": "code",
   "execution_count": null,
   "metadata": {},
   "outputs": [],
   "source": [
    "URL = \"https://play.google.com/store/apps/details?id=com.coupang.mobile.play&showAllReviews=true\"\n",
    "driver.get(URL)"
   ]
  },
  {
   "cell_type": "code",
   "execution_count": null,
   "metadata": {},
   "outputs": [],
   "source": [
    "driver.find_elements(By.CLASS_NAME, \"VfPpkd-vQzf8d\")[-1].click()    \n",
    "# \"설치\", \"리뷰 정책 및 정보\", \"리뷰 모두 보기\" 모두 동일한 Class 속성을 가짐\n",
    "# .find_elements()로 세 버튼을 모두 가져와 마지막 버튼 클릭"
   ]
  },
  {
   "cell_type": "markdown",
   "metadata": {},
   "source": [
    "### 3. 리뷰 스크롤 내리기"
   ]
  },
  {
   "cell_type": "code",
   "execution_count": null,
   "metadata": {},
   "outputs": [],
   "source": [
    "# 스크롤이 동작하지 않는 경우에만 선택적으로 적용합니다.\n",
    "# 크롬창을 최대화합니다.\n",
    "#driver.maximize_window()\n",
    "\n",
    "scroll_count = 10\n",
    "\n",
    "review_div = driver.find_element(By.CLASS_NAME, \"fysCi\")\n",
    "for i in range(scroll_count):\n",
    "    driver.execute_script(\"arguments[0].scrollTo(0, document.body.scrollHeight+999999999999)\", review_div)\n",
    "    time.sleep(1)"
   ]
  },
  {
   "cell_type": "code",
   "execution_count": null,
   "metadata": {},
   "outputs": [],
   "source": [
    "# 스크롤을 다시 맨 위로 이동\n",
    "driver.execute_script('arguments[0].scrollTo(0, 0);', review_div)\n",
    "\n",
    "review_box_list = driver.find_elements(By.CLASS_NAME, \"RHo1pe\")\n",
    "print(\"> 리뷰개수 :\", len(review_box_list))"
   ]
  },
  {
   "cell_type": "markdown",
   "metadata": {},
   "source": [
    "### 4. 리뷰 수집하기"
   ]
  },
  {
   "cell_type": "code",
   "execution_count": null,
   "metadata": {},
   "outputs": [],
   "source": [
    "f = open(\"coupang_play.txt\", \"w\", encoding = \"utf-8\")\n",
    "\n",
    "progress = 0 \n",
    "for review_box in review_box_list:\n",
    "    progress += 1\n",
    "    print(progress, end=\"\\r\")\n",
    "    \n",
    "    # 별점\n",
    "    review_star = review_box.find_element(By.CLASS_NAME, \"iXRFPc\")        \n",
    "    star_label = review_star.get_attribute(\"aria-label\")\n",
    "    # 작성일자\n",
    "    review_date = review_box.find_element(By.CLASS_NAME, \"bp9Aid\").text\n",
    "    # 리뷰 텍스트\n",
    "    review_text = review_box.find_element(By.CLASS_NAME, \"h3YV2d\").text\n",
    "    \n",
    "    # 파일에 기록하기 + 출력하기\n",
    "    f.write(review_date + \"\\t\" + star_label + \"\\t\" + review_text + \"\\n\")\n",
    "    #print(review_date + \"\\t\" + star_label + \"\\t\" + review_text)\n",
    "    \n",
    "f.close()"
   ]
  },
  {
   "cell_type": "code",
   "execution_count": null,
   "metadata": {},
   "outputs": [],
   "source": [
    "# 파일에 저장된 카페 게시글 내용을 확인합니다.\n",
    "f = open(\"coupang_play.txt\", encoding=\"utf-8\")\n",
    "for review in f:\n",
    "    print(review.strip())\n",
    "f.close()"
   ]
  },
  {
   "cell_type": "code",
   "execution_count": null,
   "metadata": {},
   "outputs": [],
   "source": [
    "driver.close()"
   ]
  },
  {
   "cell_type": "code",
   "execution_count": null,
   "metadata": {},
   "outputs": [],
   "source": []
  },
  {
   "cell_type": "code",
   "execution_count": null,
   "metadata": {},
   "outputs": [],
   "source": []
  },
  {
   "cell_type": "code",
   "execution_count": null,
   "metadata": {},
   "outputs": [],
   "source": []
  }
 ],
 "metadata": {
  "kernelspec": {
   "display_name": "Python 3",
   "language": "python",
   "name": "python3"
  },
  "language_info": {
   "codemirror_mode": {
    "name": "ipython",
    "version": 3
   },
   "file_extension": ".py",
   "mimetype": "text/x-python",
   "name": "python",
   "nbconvert_exporter": "python",
   "pygments_lexer": "ipython3",
   "version": "3.7.4"
  }
 },
 "nbformat": 4,
 "nbformat_minor": 2
}
